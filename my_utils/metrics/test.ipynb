{
 "cells": [
  {
   "cell_type": "code",
   "execution_count": 2,
   "metadata": {},
   "outputs": [],
   "source": [
    "import sklearn"
   ]
  },
  {
   "cell_type": "code",
   "execution_count": 14,
   "metadata": {},
   "outputs": [
    {
     "name": "stdout",
     "output_type": "stream",
     "text": [
      "README.md \u001b[34mUtilsVenv\u001b[m\u001b[m \u001b[34mmy_utils\u001b[m\u001b[m\n"
     ]
    }
   ],
   "source": [
    "!ls ~/Desktop/data\\ science/Git/myUtils"
   ]
  },
  {
   "cell_type": "code",
   "execution_count": 5,
   "metadata": {},
   "outputs": [
    {
     "name": "stdout",
     "output_type": "stream",
     "text": [
      "\u001b[0;31mType:\u001b[0m        module\n",
      "\u001b[0;31mString form:\u001b[0m <module 'sklearn' from '/Users/admin/Desktop/data science/Git/myUtils/UtilsVenv/lib/python3.8/site-packages/sklearn/__init__.py'>\n",
      "\u001b[0;31mFile:\u001b[0m        ~/Desktop/data science/Git/myUtils/UtilsVenv/lib/python3.8/site-packages/sklearn/__init__.py\n",
      "\u001b[0;31mDocstring:\u001b[0m  \n",
      "Machine learning module for Python\n",
      "==================================\n",
      "\n",
      "sklearn is a Python module integrating classical machine\n",
      "learning algorithms in the tightly-knit world of scientific Python\n",
      "packages (numpy, scipy, matplotlib).\n",
      "\n",
      "It aims to provide simple and efficient solutions to learning problems\n",
      "that are accessible to everybody and reusable in various contexts:\n",
      "machine-learning as a versatile tool for science and engineering.\n",
      "\n",
      "See http://scikit-learn.org for complete documentation.\n"
     ]
    }
   ],
   "source": [
    "sklearn?"
   ]
  },
  {
   "cell_type": "code",
   "execution_count": null,
   "metadata": {},
   "outputs": [],
   "source": []
  }
 ],
 "metadata": {
  "kernelspec": {
   "display_name": "Python 3.8.3 ('UtilsVenv': venv)",
   "language": "python",
   "name": "python3"
  },
  "language_info": {
   "codemirror_mode": {
    "name": "ipython",
    "version": 3
   },
   "file_extension": ".py",
   "mimetype": "text/x-python",
   "name": "python",
   "nbconvert_exporter": "python",
   "pygments_lexer": "ipython3",
   "version": "3.8.3"
  },
  "orig_nbformat": 4,
  "vscode": {
   "interpreter": {
    "hash": "fc4ecc2c019ecd4ccdd22c88a443f53de09857c61e00092fcadf9db87423976e"
   }
  }
 },
 "nbformat": 4,
 "nbformat_minor": 2
}
